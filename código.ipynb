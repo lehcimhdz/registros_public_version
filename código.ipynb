{
 "cells": [
  {
   "cell_type": "code",
   "execution_count": 46,
   "id": "7ab17773-1b2f-4e24-9c80-5c854a952ed8",
   "metadata": {},
   "outputs": [],
   "source": [
    "# Se importan las librerías\n",
    "\n",
    "# Librerías estándar\n",
    "import os\n",
    "import subprocess\n",
    "import pprint\n",
    "import time\n",
    "import json\n",
    "from datetime import datetime\n",
    "import base64\n",
    "import locale\n",
    "import os.path\n",
    "import email\n",
    "from email.mime.multipart import MIMEMultipart\n",
    "from email.mime.text import MIMEText\n",
    "from email.mime.base import MIMEBase\n",
    "from email import encoders\n",
    "import re\n",
    "\n",
    "# Librerías de terceros\n",
    "import pandas as pd\n",
    "import numpy as np\n",
    "from docxtpl import DocxTemplate\n",
    "import docx2pdf as pdf\n",
    "import gspread\n",
    "from oauth2client.service_account import ServiceAccountCredentials\n",
    "from google.oauth2 import service_account\n",
    "from google.oauth2.credentials import Credentials\n",
    "from google.oauth2.service_account import Credentials\n",
    "from google_auth_oauthlib.flow import InstalledAppFlow\n",
    "from google.auth.transport.requests import Request\n",
    "from googleapiclient.discovery import build\n",
    "from googleapiclient.http import MediaFileUpload\n"
   ]
  },
  {
   "cell_type": "code",
   "execution_count": 47,
   "id": "24789766-1686-4c16-bed0-3cb8e8eb41a4",
   "metadata": {},
   "outputs": [],
   "source": [
    "# Se genera la autentificación de google\n",
    "\n",
    "key = \"/path/to/your/keyfile.json\"\n",
    "SCOPES = [\"https://www.googleapis.com/auth/drive\"]\n",
    "creds = service_account.Credentials.from_service_account_file(key, scopes=SCOPES)\n",
    "service = build(\"drive\", \"v3\", credentials=creds)"
   ]
  },
  {
   "cell_type": "markdown",
   "id": "429e36b2-cb2b-4c80-a3ee-955b8eae1de9",
   "metadata": {},
   "source": [
    "# Acuerdos de Registro"
   ]
  },
  {
   "cell_type": "code",
   "execution_count": 48,
   "id": "1c28a560-41cd-4226-bf88-c10fa613fb28",
   "metadata": {},
   "outputs": [
    {
     "name": "stdout",
     "output_type": "stream",
     "text": [
      "Todos los elementos de la carpeta '/path/to/your/Acuerdos_Victimas' han sido eliminados.\n",
      "Todos los elementos de la carpeta '/path/to/your/PDF_Acuerdos_Victimas' han sido eliminados.\n"
     ]
    }
   ],
   "source": [
    "# Se crea un patrón para que se eliminen siempre los archivos word y PDF en las carpetas\n",
    "\n",
    "carpeta = \"/path/to/your/Acuerdos_Victimas\"\n",
    "\n",
    "if os.path.exists(carpeta):\n",
    "    for elemento in os.listdir(carpeta):\n",
    "        elemento_path = os.path.join(carpeta, elemento)\n",
    "        if os.path.isfile(elemento_path) or os.path.islink(elemento_path):\n",
    "            os.remove(elemento_path)\n",
    "        elif os.path.isdir(elemento_path):\n",
    "            shutil.rmtree(elemento_path)\n",
    "\n",
    "print(f\"Todos los elementos de la carpeta '{carpeta}' han sido eliminados.\")\n",
    "\n",
    "carpeta1 = \"/path/to/your/PDF_Acuerdos_Victimas\"\n",
    "\n",
    "if os.path.exists(carpeta1):\n",
    "    for elemento1 in os.listdir(carpeta1):\n",
    "        elemento_path1 = os.path.join(carpeta1, elemento1)\n",
    "        if os.path.isfile(elemento_path1) or os.path.islink(elemento_path1):\n",
    "            os.remove(elemento_path1)\n",
    "        elif os.path.isdir(elemento_path1):\n",
    "            shutil.rmtree(elemento_path1)\n",
    "\n",
    "print(f\"Todos los elementos de la carpeta '{carpeta1}' han sido eliminados.\")"
   ]
  },
  {
   "cell_type": "code",
   "execution_count": 49,
   "id": "4c477bb3-420e-40ec-af06-df48bad6dbff",
   "metadata": {},
   "outputs": [],
   "source": [
    "# Se carga la base de datos\n",
    "\n",
    "data = pd.read_csv(\"data_registro.csv\", encoding=\"UTF-8\", index_col=\"index_número_registro\")"
   ]
  },
  {
   "cell_type": "code",
   "execution_count": 50,
   "id": "facd5563-9f95-481f-a6cd-9f906ec0577f",
   "metadata": {},
   "outputs": [],
   "source": [
    "# Se modifican columnas\n",
    "\n",
    "data[\"número_registro\"] = data.index\n",
    "columnas = data.columns.tolist()\n",
    "columnas.insert(3, columnas.pop(columnas.index(\"número_registro\")))\n",
    "data = data[columnas]\n"
   ]
  },
  {
   "cell_type": "code",
   "execution_count": 51,
   "id": "fc137b3d-901d-4839-8daf-ac3ebfa2527f",
   "metadata": {},
   "outputs": [
    {
     "data": {
      "text/plain": [
       "'C/UTF-8/C/C/C/C'"
      ]
     },
     "execution_count": 51,
     "metadata": {},
     "output_type": "execute_result"
    }
   ],
   "source": [
    "# Se establece la fecha de hoy\n",
    "\n",
    "locale.setlocale(locale.LC_TIME, \"es_ES\")\n",
    "\n",
    "fecha_hoy = datetime.now()\n",
    "fecha_hoy = fecha_hoy.strftime(\"%d de %B de %Y\")\n",
    "\n",
    "locale.setlocale(locale.LC_ALL, \"\")"
   ]
  },
  {
   "cell_type": "code",
   "execution_count": 52,
   "id": "aee0c265-b7c4-495f-a1c6-fd71bafbf97b",
   "metadata": {},
   "outputs": [],
   "source": [
    "# Se filtran los datos para cada acuerdo particular\n",
    "\n",
    "delitos = data[(data[\"tipo_registro\"] == \"Delito – MP\") & (data[\"fecha_registro\"] == fecha_hoy)]\n",
    "delitos = delitos.iloc[:, [0, 1, 2, 3, 4, 5, 6, 7, 8]]\n",
    "\n",
    "dh = data[(data[\"tipo_registro\"] == \"Violación DH\") & (data[\"fecha_registro\"] == fecha_hoy)]\n",
    "dh = dh.iloc[:, [0, 2, 3, 5, 6, 9, 10, 11, 12, 13, 14]]\n",
    "\n",
    "judiciales = data[(data[\"tipo_registro\"] == \"Delito – Judicial\") & (data[\"fecha_registro\"] == fecha_hoy)]\n",
    "judiciales = judiciales.iloc[:, [0, 1, 2, 3, 4, 5, 6, 15, 16]]"
   ]
  },
  {
   "cell_type": "code",
   "execution_count": 53,
   "id": "b56f5a80-a7bd-4a9f-a07c-30517c7d8fb4",
   "metadata": {},
   "outputs": [],
   "source": [
    "# Se crea un patrón para generar la columna Alfanúmericaregistro\n",
    "\n",
    "def generar_alfanumerica_registro(row):\n",
    "    if pd.notna(row[\"número_registro\"]):\n",
    "        return f\"CEAVI/RELOVI/{row[\"número_registro\"]}/2024\"\n",
    "    else:\n",
    "        return None\n",
    "\n",
    "data[\"AlfanúmericaRegistro\"] = data.apply(generar_alfanumerica_registro, axis=1)\n"
   ]
  },
  {
   "cell_type": "code",
   "execution_count": 54,
   "id": "d27f1aaa-f550-4426-89d6-e88588fc2079",
   "metadata": {},
   "outputs": [],
   "source": [
    "# Se introduce el código para delitos\n",
    "\n",
    "for index, row in delitos.iterrows():\n",
    "    doc = DocxTemplate(\"FormatoRegistro_Delitos_MP.docx\")\n",
    "    registros = {\n",
    "        \"núcleo_víctima\": row[\"núcleo_víctima\"],\n",
    "        \"nombre_víctima\": row[\"nombre_víctima\"],\n",
    "        \"número_registro\": row[\"número_registro\"],\n",
    "        \"tipo_delito\": row[\"tipo_delito\"],\n",
    "        \"fecha_registro\": row[\"fecha_registro\"],\n",
    "        \"fecha_acuerdo_ministerial\": row[\"fecha_acuerdo_ministerial\"],\n",
    "        \"carpeta_investigacion\": row[\"carpeta_investigacion\"],\n",
    "        \"directa_indirecta\": row[\"directa_indirecta\"]\n",
    "                }\n",
    "    doc.render(registros)\n",
    "    doc.save(f\"/path/to/your/Acuerdos_Victimas/AcuerdoRegistro_{index}.docx\")"
   ]
  },
  {
   "cell_type": "code",
   "execution_count": 55,
   "id": "7993c45e-9094-4d53-8f80-d3b4821347fe",
   "metadata": {},
   "outputs": [],
   "source": [
    "# Se introduce el código para violaciones a derechos humanos\n",
    "\n",
    "for index, row in dh.iterrows():\n",
    "    doc = DocxTemplate(\"Formato_Registro_Violaciones_Recos.docx\")\n",
    "    registros = {\n",
    "        \"nombre_víctima\": row[\"nombre_víctima\"],\n",
    "        \"clave_víctima\": row[\"clave_víctima\"],\n",
    "        \"número_registro\": row[\"número_registro\"],\n",
    "        \"fecha_registro\": row[\"fecha_registro\"],\n",
    "        \"numero_anexo\": row[\"numero_anexo\"],\n",
    "        \"numero_recomendacion\": row[\"numero_recomendacion\"],\n",
    "        \"nombre_recomendacion\": row[\"nombre_recomendacion\"],\n",
    "        \"fecha_emision_recomendacion\": row[\"fecha_emision_recomendacion\"],\n",
    "        \"directa_indirecta\": row[\"directa_indirecta\"],\n",
    "        \"derechos_violados\": row[\"derechos_violados\"]\n",
    "                }\n",
    "    doc.render(registros)\n",
    "    doc.save(f\"/path/to/your/Acuerdos_Victimas/AcuerdoRegistro_{index}.docx\")"
   ]
  },
  {
   "cell_type": "code",
   "execution_count": 56,
   "id": "c4b83425-7b2f-481b-9e0b-9f6af0ad4f57",
   "metadata": {},
   "outputs": [],
   "source": [
    "# Se introduce el código para judiciales\n",
    "\n",
    "\n",
    "for index, row in judiciales.iterrows():\n",
    "    doc = DocxTemplate(\"FormatoRegistro_Delitos_Jueces.docx\")\n",
    "    registros = {\n",
    "        \"núcleo_víctima\": row[\"núcleo_víctima\"],\n",
    "        \"nombre_víctima\": row[\"nombre_víctima\"],\n",
    "        \"número_registro\": row[\"número_registro\"],\n",
    "        \"tipo_delito\": row[\"tipo_delito\"],\n",
    "        \"fecha_registro\": row[\"fecha_registro\"],\n",
    "        \"fecha_sentencia\": row[\"fecha_sentencia\"],\n",
    "        \"expediente_judicial\": row[\"expediente_judicial\"],\n",
    "        \"directa_indirecta\": row[\"directa_indirecta\"]\n",
    "                }\n",
    "    doc.render(registros)\n",
    "    doc.save(f\"/path/to/your/acuerdos_registro/Acuerdos_Víctimas_Python/AcuerdoRegistro_{index}.docx\")"
   ]
  },
  {
   "cell_type": "code",
   "execution_count": 57,
   "id": "35e0fe38-5386-4e18-8d0f-4cf09c7f7f55",
   "metadata": {},
   "outputs": [
    {
     "name": "stderr",
     "output_type": "stream",
     "text": [
      "100%|███████████████████████████████████████████| 28/28 [00:28<00:00,  1.03s/it]\n"
     ]
    }
   ],
   "source": [
    "# Se convierten los archivos word en PDF\n",
    "\n",
    "pdf.convert(\"/path/to/your/acuerdos_registro/Acuerdos_Víctimas_Python\", \"/path/to/your/acuerdos_registro/PDF_Acuerdos_Víctimas_Python\")"
   ]
  },
  {
   "cell_type": "markdown",
   "id": "c451175e-00fb-4e41-b115-dcef4860abc7",
   "metadata": {},
   "source": [
    "# Oficios de informe a autoridades"
   ]
  },
  {
   "cell_type": "code",
   "execution_count": 58,
   "id": "793f090d-dc68-40e6-987f-ee2ed8c49885",
   "metadata": {},
   "outputs": [
    {
     "name": "stdout",
     "output_type": "stream",
     "text": [
      "Todos los elementos de la carpeta '/path/to/your/acuerdos_registro/Word_Oficios' han sido eliminados.\n",
      "Todos los elementos de la carpeta '/path/to/your/acuerdos_registro/PDF_Oficios' han sido eliminados.\n"
     ]
    }
   ],
   "source": [
    "# Se crea un patrón para que se eliminen siempre los archivos word en la carpeta\n",
    "\n",
    "carpeta2 = \"/path/to/your/acuerdos_registro/Word_Oficios\"\n",
    "\n",
    "if os.path.exists(carpeta2):\n",
    "    for elemento2 in os.listdir(carpeta2):\n",
    "        elemento_path2 = os.path.join(carpeta2, elemento2)\n",
    "        if os.path.isfile(elemento_path2) or os.path.islink(elemento_path2):\n",
    "            os.remove(elemento_path2)\n",
    "        elif os.path.isdir(elemento_path2):\n",
    "            shutil.rmtree(elemento_path2)\n",
    "\n",
    "print(f\"Todos los elementos de la carpeta '{carpeta2}' han sido eliminados.\")\n",
    "\n",
    "carpeta3 = \"/path/to/your/acuerdos_registro/PDF_Oficios\"\n",
    "\n",
    "if os.path.exists(carpeta3):\n",
    "    for elemento3 in os.listdir(carpeta3):\n",
    "        elemento_path3 = os.path.join(carpeta3, elemento3)\n",
    "        if os.path.isfile(elemento_path3) or os.path.islink(elemento_path3):\n",
    "            os.remove(elemento_path3)\n",
    "        elif os.path.isdir(elemento_path3):\n",
    "            shutil.rmtree(elemento_path3)\n",
    "\n",
    "print(f\"Todos los elementos de la carpeta '{carpeta3}' han sido eliminados.\")\n"
   ]
  },
  {
   "cell_type": "code",
   "execution_count": 59,
   "id": "c5d5c4d9-4621-4fbc-8ae5-6f53c19454f4",
   "metadata": {},
   "outputs": [],
   "source": [
    "# Se filtran los datos\n",
    "\n",
    "data = data[data[\"fecha_registro\"] == fecha_hoy]"
   ]
  },
  {
   "cell_type": "code",
   "execution_count": 60,
   "id": "439635a9-9fcf-4c07-881a-457d3e4dbcdb",
   "metadata": {},
   "outputs": [],
   "source": [
    "# Se modifica la estructura de datos para los oficios dirigidos a MPs, todos los núcleos familiares pasan a una sola columna separados por una coma\n",
    "\n",
    "of_delitos = data[data[\"tipo_registro\"] == \"Delito – MP\"]\n",
    "of_delitos = data.groupby([\"tipo_registro\", \"núcleo_víctima\", \"carpeta_investigacion\", \"fecha_registro\"]).agg({\n",
    "    \"nombre_víctima\": \", \".join,\n",
    "    \"AlfanúmericaRegistro\": \", \".join\n",
    "}).reset_index()\n"
   ]
  },
  {
   "cell_type": "code",
   "execution_count": 61,
   "id": "dd7448f2-4da0-495d-bff6-a9d463e272db",
   "metadata": {},
   "outputs": [],
   "source": [
    "# Se modifica la estructura de datos para los oficios dirigidos a jueces\n",
    "\n",
    "of_judiciales = data[data[\"tipo_registro\"] == \"Delito – Judicial\"]\n",
    "of_judiciales = data.groupby([\"tipo_registro\", \"núcleo_víctima\", \"expediente_judicial\", \"fecha_registro\"]).agg({\n",
    "    \"nombre_víctima\": \", \".join,\n",
    "    \"AlfanúmericaRegistro\": \", \".join\n",
    "}).reset_index()"
   ]
  },
  {
   "cell_type": "code",
   "execution_count": 62,
   "id": "0f4c87a1-8e34-4223-b0d0-7cd289381430",
   "metadata": {},
   "outputs": [],
   "source": [
    "# Se modifica la estructura de datos para los oficios dirigidos a la CDHCM\n",
    "\n",
    "of_dh = data[data[\"tipo_registro\"] == \"Violación DH\"]\n",
    "of_dh = data.groupby([\"tipo_registro\", \"numero_anexo\", \"numero_recomendacion\", \"fecha_registro\"]).agg({\n",
    "    \"nombre_víctima\": \", \".join,\n",
    "    \"AlfanúmericaRegistro\": \", \".join\n",
    "}).reset_index()"
   ]
  },
  {
   "cell_type": "code",
   "execution_count": 63,
   "id": "b984dc08-f6a6-4d94-a1ef-72372200a457",
   "metadata": {},
   "outputs": [],
   "source": [
    "# Se concatenan los tres últimos dataframes, renombran las columnas y establece un nuevo orden de estas\n",
    "\n",
    "data1 = [of_delitos, of_dh, of_judiciales]\n",
    "data1 = pd.concat(data1, ignore_index=True, sort=False)\n",
    "\n",
    "data1.rename(columns={\n",
    "    \"fecha_registro\": \"fecha_oficio\",\n",
    "    \"nombre_víctima\": \"nombres_víctimas\",\n",
    "    \"AlfanúmericaRegistro\": \"número_registro\",\n",
    "    \"carpeta_investigacion\": \"número_carpeta\",\n",
    "    \"numero_recomendacion\": \"número_recomendación\"\n",
    "}, inplace=True)\n",
    "\n",
    "new_columns = [\n",
    "    \"index_núm_oficio\", \n",
    "    \"nombre_agente\", \n",
    "    \"cargo_agente\", \n",
    "    \"fiscalía_especializada\", \n",
    "    \"nombre_juez\", \n",
    "    \"cargo_juez\",\n",
    "    \"correo_electrónico\"\n",
    "]\n",
    "\n",
    "for col in new_columns:\n",
    "    data1[col] = np.nan\n",
    "\n",
    "nuevo_orden = [\n",
    "    \"index_núm_oficio\",\n",
    "    \"tipo_registro\",\n",
    "    \"fecha_oficio\",\n",
    "    \"núcleo_víctima\",\n",
    "    \"nombres_víctimas\",\n",
    "    \"número_registro\",\n",
    "    \"número_carpeta\",\n",
    "    \"nombre_agente\",\n",
    "    \"cargo_agente\",\n",
    "    \"fiscalía_especializada\",\n",
    "    \"número_recomendación\",\n",
    "    \"numero_anexo\",\n",
    "    \"expediente_judicial\",\n",
    "    \"nombre_juez\",\n",
    "    \"cargo_juez\",\n",
    "    \"correo_electrónico\"\n",
    "]\n",
    "\n",
    "data1 = data1[nuevo_orden]\n",
    "data1 = data1.fillna(\"NA\")\n",
    "\n",
    "filtro_feidf = data1[\"número_carpeta\"].str.contains(\"FEIDF\", na=False)\n",
    "\n",
    "data1.loc[filtro_feidf, \"nombre_agente\"] = \"LIC. ...\"\n",
    "data1.loc[filtro_feidf, \"cargo_agente\"] = \"FISCAL\"\n",
    "data1.loc[filtro_feidf, \"fiscalía_especializada\"] = \"FISCALÍA DE INVESTIGACIÓN DEL DELITO DE ...\"\n",
    "data1.loc[filtro_feidf, \"correo_electrónico\"] = \"...@....com\"\n",
    "\n",
    "data1.loc[data1[\"tipo_registro\"] == \"Violación DH\", \"correo_electrónico\"] = \"...@...org.mx\"\n",
    "\n",
    "\n",
    "data1[\"Asunto\"] = data1[\"nombres_víctimas\"].apply(lambda x: f\"Informe Registro {x}\")\n"
   ]
  },
  {
   "cell_type": "code",
   "execution_count": 64,
   "id": "a85290b2-1779-4cab-88a9-521c6e07a928",
   "metadata": {},
   "outputs": [],
   "source": [
    "# Se definen las liberías y servicios para solicitar la autentificación en Google, tomar los números de oficios y llenar la base del control de gestión\n",
    "\n",
    "scope = [\"https://spreadsheets.google.com/feeds\", \"https://www.googleapis.com/auth/drive\"]\n",
    "creds = ServiceAccountCredentials.from_json_keyfile_name('/path/to/your/keyfile.json', scope)\n",
    "client = gspread.authorize(creds)\n",
    "\n",
    "spreadsheet = client.open_by_url(\"https://docs.google.com/spreadsheets/d/1Rb2rhVQ5n9SGiRnwDFJdi-O0efDuR8ifu6hvT9tw3kE/edit?gid=0#gid=0\")\n",
    "worksheet = spreadsheet.worksheet(\"Oficios_Salida\")"
   ]
  },
  {
   "cell_type": "code",
   "execution_count": 65,
   "id": "06f9bf97-25ee-42b8-9e24-77a8e1bd1128",
   "metadata": {},
   "outputs": [
    {
     "name": "stdout",
     "output_type": "stream",
     "text": [
      "Advertencia: La longitud de 'Número_Oficio' (171) es menor que la longitud de 'df' (999). Ajustando longitud.\n",
      "Advertencia: La longitud de 'Número_Oficio' (171) es mayor que la longitud de 'data1' (8). Ajustando longitud.\n"
     ]
    }
   ],
   "source": [
    "# Se copian los números de oficio\n",
    "\n",
    "data2 = worksheet.get_all_records()\n",
    "df = pd.DataFrame(data2)\n",
    "\n",
    "columna_asunto = worksheet.col_values(5)\n",
    "fila_inicio = len(columna_asunto) + 1\n",
    "\n",
    "max_rows = 1000\n",
    "if fila_inicio > max_rows:\n",
    "    fila_inicio = max_rows\n",
    "\n",
    "numero_oficio_values = worksheet.col_values(3)[fila_inicio-1: fila_inicio-1+len(df)]  # Extraer los valores desde la fila de inicio\n",
    "\n",
    "if len(numero_oficio_values) < len(df):\n",
    "    print(f\"Advertencia: La longitud de 'Número_Oficio' ({len(numero_oficio_values)}) es menor que la longitud de 'df' ({len(df)}). Ajustando longitud.\")\n",
    "    df = df.head(len(numero_oficio_values))\n",
    "\n",
    "data1_length = len(data1)\n",
    "numero_oficio_values_length = len(numero_oficio_values)\n",
    "if numero_oficio_values_length > data1_length:\n",
    "    print(f\"Advertencia: La longitud de 'Número_Oficio' ({numero_oficio_values_length}) es mayor que la longitud de 'data1' ({data1_length}). Ajustando longitud.\")\n",
    "    numero_oficio_values = numero_oficio_values[:data1_length]\n",
    "\n",
    "data1.iloc[:len(numero_oficio_values), data1.columns.get_loc(\"index_núm_oficio\")] = numero_oficio_values"
   ]
  },
  {
   "cell_type": "code",
   "execution_count": 66,
   "id": "0a34f45a-dd8f-42e7-a85a-256eb08974bf",
   "metadata": {},
   "outputs": [
    {
     "name": "stdout",
     "output_type": "stream",
     "text": [
      "Datos actualizados correctamente.\n"
     ]
    }
   ],
   "source": [
    "# Se llena la base de drive de control de gestión en la columna de asunto\n",
    "\n",
    "data2 = worksheet.get_all_records()\n",
    "df = pd.DataFrame(data2)\n",
    "\n",
    "asunto_col = worksheet.col_values(5)\n",
    "first_empty_row = len(asunto_col) + 1\n",
    "\n",
    "updates = []\n",
    "for idx, row in data1.iterrows():\n",
    "    row_index = first_empty_row + idx\n",
    "    updates.append({\n",
    "        \"range\": f\"E{row_index}\",\n",
    "        \"values\": [[row[\"Asunto\"]]]\n",
    "    })\n",
    "\n",
    "try:\n",
    "    worksheet.batch_update(updates)\n",
    "    print(\"Datos actualizados correctamente.\")\n",
    "except Exception as e:\n",
    "    print(f\"Error al actualizar los datos: {e}\")"
   ]
  },
  {
   "cell_type": "code",
   "execution_count": 67,
   "id": "4ff61378-14cf-44d9-b859-e1c3a8d4298c",
   "metadata": {},
   "outputs": [],
   "source": [
    "# Se crea un CSV, esto para que los algunos datos son necesarios que se introduzcan manualmente\n",
    "\n",
    "data1.to_csv(\"Oficios_Informe.csv\", index=False)"
   ]
  },
  {
   "cell_type": "code",
   "execution_count": 68,
   "id": "904f60f5-41a2-4224-94c1-254c26bd35b9",
   "metadata": {},
   "outputs": [
    {
     "name": "stdout",
     "output_type": "stream",
     "text": [
      "El archivo ha sido cerrado. Continuando con la ejecución del código.\n"
     ]
    }
   ],
   "source": [
    "# Se abre el CSV creado por el programa predeterminado, se ingresan nuevos datos, se cierra y sigue corriendo el código\n",
    "\n",
    "try:\n",
    "    process = subprocess.Popen([\"open\", \"Oficios_Informe.csv\"])\n",
    "    process.wait()\n",
    "    print(\"El archivo ha sido cerrado. Continuando con la ejecución del código.\")\n",
    "except FileNotFoundError:\n",
    "    print(f\"Error: No se pudo encontrar el archivo 'Oficios_Informe.csv'\")"
   ]
  },
  {
   "cell_type": "code",
   "execution_count": 69,
   "id": "d800be35-917b-4783-86b9-fb2872a75ab1",
   "metadata": {},
   "outputs": [],
   "source": [
    "# Se cargan de nueva cuenta los dstos del CSV\n",
    "\n",
    "data1 = pd.read_csv(\"Oficios_Informe.csv\", encoding=\"UTF-8\", index_col=\"index_núm_oficio\")"
   ]
  },
  {
   "cell_type": "code",
   "execution_count": 70,
   "id": "44dc0574-b2b4-479c-a386-62efb7580c66",
   "metadata": {},
   "outputs": [],
   "source": [
    "data1[\"número_oficio\"] = data1.index\n",
    "columnas = data1.columns.tolist()\n",
    "columnas.insert(3, columnas.pop(columnas.index(\"número_oficio\")))\n",
    "data1 = data1[columnas]"
   ]
  },
  {
   "cell_type": "code",
   "execution_count": 71,
   "id": "8715242b-95cb-421a-a235-31017e7bb63e",
   "metadata": {},
   "outputs": [],
   "source": [
    "# Se filtran los datos para cada oficio particular\n",
    "\n",
    "of_delitos = data1[(data1[\"tipo_registro\"] == \"Delito – MP\") & (data1[\"fecha_oficio\"] == fecha_hoy)]\n",
    "\n",
    "of_dh = data1[(data1[\"tipo_registro\"] == \"Violación DH\") & (data1[\"fecha_oficio\"] == fecha_hoy)]\n",
    "\n",
    "of_judiciales = data1[(data1[\"tipo_registro\"] == \"Delito – Judicial\") & (data1[\"fecha_oficio\"] == fecha_hoy)]\n"
   ]
  },
  {
   "cell_type": "code",
   "execution_count": 72,
   "id": "17afa597-37cd-4d72-8747-fa4740d2ba8f",
   "metadata": {},
   "outputs": [],
   "source": [
    "# Se introduce el código para oficios de delitos\n",
    "\n",
    "for index, row in of_delitos.iterrows():\n",
    "    doc1 = DocxTemplate(\"FormatoOficio_Notificación_MP.docx\")\n",
    "    registros1 = {\n",
    "        \"fecha_oficio\": row[\"fecha_oficio\"],\n",
    "        \"número_oficio\": row[\"número_oficio\"],\n",
    "        \"nombres_víctimas\": row[\"nombres_víctimas\"],\n",
    "        \"número_registro\": row[\"número_registro\"],\n",
    "        \"número_carpeta\": row[\"número_carpeta\"],\n",
    "        \"nombre_agente\": row[\"nombre_agente\"],\n",
    "        \"cargo_agente\": row[\"cargo_agente\"],\n",
    "        \"fiscalía_especializada\": row[\"fiscalía_especializada\"]\n",
    "                }\n",
    "    doc1.render(registros1)\n",
    "    doc1.save(f\"/path/to/your/acuerdos_registro/Word_Oficios/OficioRELOVI_{index}.docx\")"
   ]
  },
  {
   "cell_type": "code",
   "execution_count": 73,
   "id": "cf0ed0a4-ca5f-47ac-adad-5cea3635c390",
   "metadata": {},
   "outputs": [],
   "source": [
    "# Se introduce el código para oficios de violaciones a los derechos humanos\n",
    "\n",
    "for index, row in of_dh.iterrows():\n",
    "    doc1 = DocxTemplate(\"FormatoOficio_Notificación_CDHCM.docx\")\n",
    "    registros1 = {\n",
    "        \"fecha_oficio\": row[\"fecha_oficio\"],\n",
    "        \"número_oficio\": row[\"número_oficio\"],\n",
    "        \"nombres_víctimas\": row[\"nombres_víctimas\"],\n",
    "        \"número_registro\": row[\"número_registro\"],\n",
    "        \"número_recomendación\": row[\"número_recomendación\"]\n",
    "                }\n",
    "    doc1.render(registros1)\n",
    "    doc1.save(f\"/path/to/your/acuerdos_registro/Word_Oficios/OficioRELOVI_{index}.docx\")"
   ]
  },
  {
   "cell_type": "code",
   "execution_count": 74,
   "id": "4a39c84c-1098-4647-92a2-2a27b3131590",
   "metadata": {},
   "outputs": [],
   "source": [
    "# Se introduce el código para oficios de delitos judiciales\n",
    "\n",
    "for index, row in of_judiciales.iterrows():\n",
    "    doc1 = DocxTemplate(\"FormatoOficio_Notificación_Jueces.docx\")\n",
    "    registros1 = {\n",
    "        \"fecha_oficio\": row[\"fecha_oficio\"],\n",
    "        \"número_oficio\": row[\"número_oficio\"],\n",
    "        \"nombres_víctimas\": row[\"nombres_víctimas\"],\n",
    "        \"número_registro\": row[\"número_registro\"],\n",
    "        \"expediente_judicial\": row[\"expediente_judicial\"],\n",
    "        \"nombre_juez\": row[\"nombre_juez\"],\n",
    "        \"cargo_juez\": row[\"cargo_juez\"],\n",
    "                }\n",
    "    doc1.render(registros1)\n",
    "    doc1.save(f\"/path/to/your/acuerdos_registro/Word_Oficios/OficioRELOVI_{index}.docx\")"
   ]
  },
  {
   "cell_type": "code",
   "execution_count": 75,
   "id": "842ea4ad-b311-48b2-bc7a-40b21f09813f",
   "metadata": {},
   "outputs": [
    {
     "name": "stderr",
     "output_type": "stream",
     "text": [
      "100%|█████████████████████████████████████████████| 8/8 [00:12<00:00,  1.56s/it]\n"
     ]
    }
   ],
   "source": [
    "# Se convierten los oficios en PDF\n",
    "\n",
    "pdf.convert(\"/path/to/your/acuerdos_registro/Word_Oficios\", \"/path/to/your/acuerdos_registro/PDF_Oficios\")"
   ]
  },
  {
   "cell_type": "markdown",
   "id": "2d12875d-97d2-4554-adb9-99eee190b673",
   "metadata": {},
   "source": [
    "# Subir archivos a Google Drive"
   ]
  },
  {
   "cell_type": "code",
   "execution_count": 76,
   "id": "39fe15ff-aa9b-4fc8-90a0-2cb13a5b36ab",
   "metadata": {},
   "outputs": [],
   "source": [
    "# Se definen las rutas locales y de Google Drive\n",
    "\n",
    "ruta_origen = \"PDF_Acuerdos_Víctimas_Python\"\n",
    "ruta_destino = \"1y..._X\"\n"
   ]
  },
  {
   "cell_type": "code",
   "execution_count": 77,
   "id": "b18e96fb-a17f-4a87-96b1-de2934f41cbd",
   "metadata": {},
   "outputs": [
    {
     "name": "stdout",
     "output_type": "stream",
     "text": [
      "Archivo AcuerdoRegistro_788.pdf subido con ID: 1-m-QBScWSXxtyyrgWhLoGjEtwV9Fcziu\n",
      "Archivo AcuerdoRegistro_789.pdf subido con ID: 1igzJ_9-NCpXpaeSh5D9t91ZUZn9-nL97\n",
      "Archivo AcuerdoRegistro_809.pdf subido con ID: 1vVtbMLbO--ZpbY8xZR97MK1u1UX7sN1U\n",
      "Archivo AcuerdoRegistro_799.pdf subido con ID: 1U6XU8qLQJadeh5e2pZBhQ2e19shunP-L\n",
      "Archivo AcuerdoRegistro_798.pdf subido con ID: 1S5dK2XyLMh09EBqYTD37PEjogngsxI74\n",
      "Archivo AcuerdoRegistro_808.pdf subido con ID: 1VxDgcqBad4mAW4OGYE-neMRxeP2pd8yg\n",
      "Archivo AcuerdoRegistro_811.pdf subido con ID: 1sVcmfS-FGBJVCHkfkJyPuyRc0Jjw_89q\n",
      "Archivo AcuerdoRegistro_805.pdf subido con ID: 1HU9UnWlRrI2dH2olUj7ievNxb7vePQZh\n",
      "Archivo AcuerdoRegistro_795.pdf subido con ID: 1OCJhGtRv9dnK_Dzaqs8g9BVZHoYW9Dbq\n",
      "Archivo AcuerdoRegistro_794.pdf subido con ID: 1asPQIxAfSgxeGfaDck5K3i7C8b2D5Mfm\n",
      "Archivo AcuerdoRegistro_804.pdf subido con ID: 1mVSlZiqzu1h8CuQ0sNfc5ajg201S8B4Y\n",
      "Archivo AcuerdoRegistro_810.pdf subido con ID: 1EVrmLuXyFhUm5x7748Qh2DWZ9ME-bMRd\n",
      "Archivo AcuerdoRegistro_806.pdf subido con ID: 1a9_jBTcnIRGkCDFhDzj4YfpPu2-N3hXb\n",
      "Archivo AcuerdoRegistro_812.pdf subido con ID: 1wJO8H4R6cv4WtT6gPwWWIfi9kqEcPm_P\n",
      "Archivo AcuerdoRegistro_796.pdf subido con ID: 1c7-TvdcPE3xpccPHJAuTVH0HLExkMzB8\n",
      "Archivo AcuerdoRegistro_797.pdf subido con ID: 1AXYz6o8mzxNLYjqMLwkWw9KMBFvn4WNJ\n",
      "Archivo AcuerdoRegistro_813.pdf subido con ID: 1QydTNcy01BfYRLGdutKyZTnwnBrzmsE8\n",
      "Archivo AcuerdoRegistro_807.pdf subido con ID: 1EGJOI7D_w-fKo_3SJ7xCftah73-lx8uw\n",
      "Archivo AcuerdoRegistro_803.pdf subido con ID: 1_Aklsmr9CbSXQ4ZdbK2I_EiUwCCHgoHE\n",
      "Archivo AcuerdoRegistro_793.pdf subido con ID: 15KRp3JIDlcg0LQRoN8zBgdLMOlyfQk87\n",
      "Archivo AcuerdoRegistro_787.pdf subido con ID: 11f6IrwwWwyHmV_-UaVJrPoqWQerJWPVg\n",
      "Archivo AcuerdoRegistro_792.pdf subido con ID: 1WULyHOsD-x5C266nuhPrJo65AbTA-oyl\n",
      "Archivo AcuerdoRegistro_802.pdf subido con ID: 1pevmDy712k_ki_qHRvok-K5LujANsySy\n",
      "Archivo AcuerdoRegistro_814.pdf subido con ID: 1wCwpx7iIUuWbKvLPLVq4KooTiXdB-3Yw\n",
      "Archivo AcuerdoRegistro_800.pdf subido con ID: 1HBnfeT8jr7b04cbF11VNcQep-Ts5a3x3\n",
      "Archivo AcuerdoRegistro_790.pdf subido con ID: 1PkN-4IhEu0-N22q-WVqrfrEQzKcgvxUv\n",
      "Archivo AcuerdoRegistro_791.pdf subido con ID: 1mFv5C82asyiSHDDTnx3LEB9xqYtVEHX-\n",
      "Archivo AcuerdoRegistro_801.pdf subido con ID: 1WB5M5jcylMI5Kr6z5YgrXvvhC8_prrPT\n"
     ]
    }
   ],
   "source": [
    "# Se crea la función para copiar los archivos de la carpeta local a Google Drive\n",
    "\n",
    "def mac_to_drive(ruta_origen, ruta_destino):\n",
    "    for nombre_archivo in os.listdir(ruta_origen):\n",
    "        ruta_archivo = os.path.join(ruta_origen, nombre_archivo)\n",
    "        if os.path.isfile(ruta_archivo):\n",
    "            media = MediaFileUpload(ruta_archivo, resumable=True)\n",
    "            archivo_metadata = {\n",
    "                \"name\": nombre_archivo,\n",
    "                \"parents\": [ruta_destino]\n",
    "            }\n",
    "            file = service.files().create(\n",
    "                body=archivo_metadata,\n",
    "                media_body=media,\n",
    "                fields=\"id\"\n",
    "            ).execute()\n",
    "            print(f\"Archivo {nombre_archivo} subido con ID: {file.get(\"id\")}\")\n",
    "\n",
    "mac_to_drive(ruta_origen, ruta_destino)\n"
   ]
  },
  {
   "cell_type": "markdown",
   "id": "e9f92bbd-2e7d-4604-acbb-3181555e33f3",
   "metadata": {},
   "source": [
    "# Subir datos a Google Sheets Padrón_Víctimas_CDMX"
   ]
  },
  {
   "cell_type": "code",
   "execution_count": 78,
   "id": "448a7643-72b2-49e6-bed0-fa8182ab1398",
   "metadata": {},
   "outputs": [],
   "source": [
    "# Se agregan las credenciales\n",
    "\n",
    "key_path = \"/path/to/your/keyfile.json\"\n",
    "sheets_scope = [\"https://www.googleapis.com/auth/spreadsheets\", \"https://www.googleapis.com/auth/drive\"]\n",
    "creds = Credentials.from_service_account_file(key_path, scopes=sheets_scope)\n",
    "gc = gspread.authorize(creds)\n",
    "spreadsheet_url = \"https://docs.google.com/spreadsheets/d/.../edit?gid=...\"\n",
    "sh = gc.open_by_url(spreadsheet_url)\n",
    "worksheet = sh.worksheet(\"Padrón_Víctimas_CDMX\")"
   ]
  },
  {
   "cell_type": "code",
   "execution_count": 79,
   "id": "669e0725-a010-474d-ac1e-2daabc943e32",
   "metadata": {},
   "outputs": [],
   "source": [
    "# Se renombran columnas, ajusta formato y seleccionan las de interés\n",
    "\n",
    "data = data.rename(columns={\n",
    "    \"tipo_registro\": \"ReconocimientoCalidadVíctima\",\n",
    "    \"nombre_víctima\": \"NombreVíctima\",\n",
    "    \"número_registro\": \"NúmeroRegistro\",\n",
    "    \"fecha_registro\": \"FechaRegistro\",\n",
    "    \"Alfanúmericaregistro\": \"AlfanúmericaRegistro\",\n",
    "    \"numero_registro\": \"NúmeroRegistro\",\n",
    "    \"directa_indirecta\": \"TipoVíctima\",\n",
    "    \"carpeta_investigacion\": \"CarpetaInvestigación\",\n",
    "    \"nombre_recomendacion\": \"NombreRecomendacion\",\n",
    "    \"tipo_delito\": \"TipoDelito.ViolaciónDH\",\n",
    "    \"derechos_violados\": \"DerechosHumanosViolados\",\n",
    "    \"clave_víctima\": \"ClaveVíctimaRecomendación\",\n",
    "    \"expediente_judicial\": \"ExpedienteJudicial\"\n",
    "})\n",
    "\n",
    "data[\"numero_recomendacion\"] = data[\"numero_recomendacion\"].apply(\n",
    "    lambda x: f\"Recomendación {x}\" if pd.notna(x) else x\n",
    ")\n",
    "\n",
    "data.loc[pd.notna(data[\"numero_recomendacion\"]), \"TipoDelito.ViolaciónDH\"] = data[\"numero_recomendacion\"]\n",
    "\n",
    "data[\"TipoVíctima\"] = data[\"TipoVíctima\"].str.capitalize()\n",
    "data[\"ClaveVíctimaRecomendación\"] = data[\"ClaveVíctimaRecomendación\"].str.capitalize()\n",
    "\n",
    "data = data.iloc[:, [0, 2, 3, 4, 5, 6, 8, 10, 11, 13, 14, 16, 17]]"
   ]
  },
  {
   "cell_type": "code",
   "execution_count": 80,
   "id": "746012e8-2a5d-4023-b47d-c6fa1169a235",
   "metadata": {},
   "outputs": [],
   "source": [
    "# Se agregan nuevas columnas\n",
    "\n",
    "data[\"Año\"] = \"2024\"\n",
    "\n",
    "data[\"PostMortem\"] = np.nan\n",
    "data[\"AlcaldíaHechoVictimizante\"] = np.nan\n",
    "data[\"NNA\"] = data[\"NombreVíctima\"].apply(lambda x: 1 if \"N.N.A.\" in str(x) else 0)\n",
    "data[\"Sexo\"] = np.nan\n",
    "data[\"Teléfono\"] = np.nan\n",
    "data[\"CorreoElectrónico\"] = np.nan\n",
    "data[\"GAP\"] = np.nan\n",
    "data[\"CURP\"] = np.nan\n",
    "data[\"TiempoModoLugar\"] = np.nan\n",
    "data[\"Parentesco\"] = np.nan\n",
    "\n",
    "data = data.fillna(\"NA\")"
   ]
  },
  {
   "cell_type": "code",
   "execution_count": 81,
   "id": "ab62c85c-2807-4f85-bd60-e1a3c6ac57e8",
   "metadata": {},
   "outputs": [
    {
     "data": {
      "text/plain": [
       "'es_ES'"
      ]
     },
     "execution_count": 81,
     "metadata": {},
     "output_type": "execute_result"
    }
   ],
   "source": [
    "# Se establece el idioma español\n",
    "\n",
    "locale.setlocale(locale.LC_TIME, \"es_ES\")"
   ]
  },
  {
   "cell_type": "code",
   "execution_count": 82,
   "id": "160c6929-cdf9-4a13-a61e-2b0fc9090411",
   "metadata": {},
   "outputs": [],
   "source": [
    "# Se convierten datos vacíos en NA y se modifican columnas adicionales\n",
    "\n",
    "data[\"FechaRegistro\"] = pd.to_datetime(data[\"FechaRegistro\"], format=\"%d de %B de %Y\", errors=\"coerce\", dayfirst=True)\n",
    "data[\"FechaRegistro\"] = pd.to_datetime(data[\"FechaRegistro\"]).dt.strftime(\"%d/%m/%Y\")\n"
   ]
  },
  {
   "cell_type": "code",
   "execution_count": 83,
   "id": "d462ade1-a635-4382-a8e1-de7ebd3a29b5",
   "metadata": {},
   "outputs": [
    {
     "data": {
      "text/plain": [
       "'C/UTF-8/C/C/C/C'"
      ]
     },
     "execution_count": 83,
     "metadata": {},
     "output_type": "execute_result"
    }
   ],
   "source": [
    "# Se vuelve a establecer el idioma default\n",
    "\n",
    "locale.setlocale(locale.LC_ALL, \"\")"
   ]
  },
  {
   "cell_type": "code",
   "execution_count": 84,
   "id": "09a668c6-5fed-431e-8d36-dbb2d69e3704",
   "metadata": {},
   "outputs": [
    {
     "name": "stdout",
     "output_type": "stream",
     "text": [
      "Datos agregados exitosamente a Google Sheets según el mapeo especificado.\n"
     ]
    }
   ],
   "source": [
    "# Se agrega un patrón para incorporar a Google Sheets\n",
    "\n",
    "for idx, row in data.iterrows():\n",
    "    new_row = [\n",
    "        str(row[column]) if column in data.columns else \"\"\n",
    "        for column in worksheet.row_values(1)\n",
    "    ]\n",
    "    worksheet.append_row(new_row)\n",
    "    time.sleep(1)\n",
    "    \n",
    "print(\"Datos agregados exitosamente a Google Sheets según el mapeo especificado.\")"
   ]
  },
  {
   "cell_type": "markdown",
   "id": "31930f31-590d-43c6-9184-82db09bcc3a7",
   "metadata": {},
   "source": [
    "# Automatizar el envío de emails"
   ]
  },
  {
   "cell_type": "code",
   "execution_count": 85,
   "id": "0af87e7e-40f1-4e2c-bfa1-eb812a89900e",
   "metadata": {},
   "outputs": [],
   "source": [
    "# Se define alcance\n",
    "\n",
    "SCOPES = [\"https://www.googleapis.com/auth/gmail.compose\"]"
   ]
  },
  {
   "cell_type": "code",
   "execution_count": 86,
   "id": "b99d2507-a481-4995-91ee-342122356864",
   "metadata": {},
   "outputs": [],
   "source": [
    "# Se define la función para autentificar en gmail\n",
    "\n",
    "from google.oauth2.credentials import Credentials\n",
    "\n",
    "def authenticate_gmail():\n",
    "    creds = None\n",
    "    if os.path.exists(\"token.json\"):\n",
    "        creds = Credentials.from_authorized_user_file(\"token.json\", SCOPES)\n",
    "    if not creds or not creds.valid:\n",
    "        if creds and creds.expired and creds.refresh_token:\n",
    "            creds.refresh(Request())\n",
    "        else:\n",
    "            flow = InstalledAppFlow.from_client_secrets_file(\"Llaves/oauth.json\", SCOPES)\n",
    "            creds = flow.run_local_server(port=0)\n",
    "        with open(\"token.json\", \"w\") as token:\n",
    "            token.write(creds.to_json())\n",
    "    service = build(\"gmail\", \"v1\", credentials=creds)\n",
    "    return service"
   ]
  },
  {
   "cell_type": "code",
   "execution_count": 87,
   "id": "b5673182-e2e6-429e-8baa-344ed658cce6",
   "metadata": {},
   "outputs": [],
   "source": [
    "# Se define la función para crear el borrador\n",
    "def create_draft(service, user_id, to_email, subject, body_text, attachments=None):\n",
    "    message = email.mime.multipart.MIMEMultipart()\n",
    "    message[\"to\"] = to_email\n",
    "    message[\"subject\"] = subject\n",
    "\n",
    "    msg_body = email.mime.text.MIMEText(body_text, \"html\")\n",
    "    message.attach(msg_body)\n",
    "\n",
    "    if attachments:\n",
    "        for attachment in attachments:\n",
    "            with open(attachment, \"rb\") as f:\n",
    "                attach_part = email.mime.base.MIMEBase(\"application\", \"octet-stream\")\n",
    "                attach_part.set_payload(f.read())\n",
    "                email.encoders.encode_base64(attach_part)\n",
    "                attach_part.add_header(\n",
    "                    \"Content-Disposition\",\n",
    "                    f\"attachment; filename={os.path.basename(attachment)}\",\n",
    "                )\n",
    "                message.attach(attach_part)\n",
    "\n",
    "    raw_message = base64.urlsafe_b64encode(message.as_bytes()).decode(\"ascii\")\n",
    "\n",
    "    draft = service.users().drafts().create(\n",
    "        userId=user_id,\n",
    "        body={\"message\": {\"raw\": raw_message}},\n",
    "    ).execute()\n",
    "\n",
    "    print(f\"Draft id: {draft[\"id\"]}\")\n",
    "    return draft\n"
   ]
  },
  {
   "cell_type": "code",
   "execution_count": 88,
   "id": "6e4a24bf-07cc-4e31-841c-7b5a74d582a7",
   "metadata": {},
   "outputs": [],
   "source": [
    "# Extraer números de patrones en la columna 'número_registro'\n",
    "def extract_numbers_from_column(text):\n",
    "    numbers = re.findall(r\"CEAVI/RELOVI/(\\d+)/2024\", text)\n",
    "    return numbers"
   ]
  },
  {
   "cell_type": "code",
   "execution_count": 89,
   "id": "11bb443c-9088-4f85-99ef-61d918126493",
   "metadata": {},
   "outputs": [],
   "source": [
    "# Se definen los df para cada tipo de de email\n",
    "\n",
    "gmail_delitos = data1[data1[\"tipo_registro\"] == \"Delito – MP\"]\n",
    "gmail_judiciales = data1[data1[\"tipo_registro\"] == \"Delito – Judicial\"]\n",
    "gmail_dh = data1[data1[\"tipo_registro\"] == \"Violación DH\"]"
   ]
  },
  {
   "cell_type": "code",
   "execution_count": 90,
   "id": "8b34378c-c7b5-4368-b9ef-9930ac9c6c46",
   "metadata": {},
   "outputs": [
    {
     "name": "stdout",
     "output_type": "stream",
     "text": [
      "Draft id: r7718323833249473154\n",
      "Draft id: r-142647637683693327\n",
      "Draft id: r-1191127161739347285\n",
      "Draft id: r3649759124155026391\n",
      "Draft id: r-75275989381193454\n",
      "Draft id: r-5349148240239286832\n",
      "Draft id: r7471251834324807388\n"
     ]
    }
   ],
   "source": [
    "# Se crea el borrador en gmail para delitos MP\n",
    "\n",
    "def main():\n",
    "    service = authenticate_gmail()\n",
    "\n",
    "    oficios_folder = \"/path/to/your/acuerdos_registro/PDF_Oficios\"\n",
    "    acuerdos_folder = \"/path/to/your/PDF_Acuerdos_Victimas\"\n",
    "\n",
    "    for _, row in gmail_delitos.iterrows():\n",
    "        to_email = row[\"correo_electrónico\"]\n",
    "        subject = f\"Se remite oficio CEAVICDMX/DFV/RELOVI/{row[\"número_oficio\"]}/2024\"\n",
    "        body_text = f\"\"\"\n",
    "        <html>\n",
    "        <body style=\"font-family: 'Source Sans Pro', sans-serif; color:gray; font-size:11pt;\">\n",
    "        <p style=\"text-align: right;\">Ciudad de México a {row[\"fecha_oficio\"]}</p>\n",
    "        <p style=\"text-align: right; font-weight: bold;\">CEAVICDMX/DFVCDMX/RELOVI/{row[\"número_oficio\"]}/2024</p>        \n",
    "        <p style=\"text-align: right;\"><strong>Nombres:</strong> {row[\"nombres_víctimas\"]}</p>\n",
    "        <p style=\"text-align: right;\"><strong>Acuerdos:</strong> {row[\"número_registro\"]}</p>\n",
    "        <p style=\"text-align: right;\"><strong>Carpeta de Investigación:</strong> {row[\"número_carpeta\"]}</p>\n",
    "        <p style=\"text-align: left; font-weight: bold;\">{row[\"nombre_agente\"]}</p>        \n",
    "        <p style=\"text-align: left; font-weight: bold;\">{row[\"cargo_agente\"]}</p>        \n",
    "        <p style=\"text-align: left; font-weight: bold;\">{row[\"fiscalía_especializada\"]}</p>   \n",
    "        <p style=\"text-align: left; font-weight: bold;\">P R E S E N T E</p>     \n",
    "        <p style=\"text-align: justify;\">Me dirijo a usted en atención a las solicitudes mediante las que gestiona la inscripción al Registro Local de Víctimas de las personas citadas al rubro, para lo cual me permito manifestarle lo siguiente:</p>\n",
    "        <p style=\"text-align: justify;\">Anexo al presente se encuentran los acuerdos originales de las personas citadas al rubro.</p>\n",
    "        <p style=\"text-align: justify;\">Con fundamento en lo dispuesto en el artículo 102 de la Ley General de Víctimas y el artículo 142, fracción XIII de la Ley de Víctimas para la Ciudad de México, le envío los acuerdos antes mencionados a fin de que se le haga del conocimiento a quien en derecho corresponda. De la misma manera, le informo que se reserva la remisión del presente expediente al Comité Interdisciplinario Evaluador de la Comisión Ejecutiva de Atención a Víctimas de la Ciudad de México, <u>hasta en tanto exista resolución judicial firme o bien, exista determinación del Ministerio Público que determine compensación subsidiaria</u>, esto último de conformidad con lo dispuesto por los artículos 66, 67, 68 y 69 de la Ley General de Víctimas en armonía con los numerales 63, 64, 65, 66 y 135 de la Ley de Víctimas para la Ciudad de México.</p>\n",
    "        <p style=\"text-align: justify;\">Finalmente, se hace de su conocimiento que la información contenida en el presente oficio, así como en los documentos anexos, contiene datos personales, por lo que su difusión es responsabilidad de quien los transmite y quien los recibe, en términos de las disposiciones vigentes en materia de datos personales, acceso a la información pública, transparencia y rendición de cuentas.</p>\n",
    "        <p style=\"text-align: justify;\">Sin más por el momento, agradezco de antemano la atención sobre el presente asunto.</p>\n",
    "        <p style=\"text-align: left; font-weight: bold;\">A T E N T A M E N T E</p>  \n",
    "        <p style=\"text-align: left; font-weight: bold;\">LIC. ...</p>             \n",
    "        <p style=\"text-align: left; font-weight: bold;\">COORDINADOR DEL ...</p>             \n",
    "        <p style=\"text-align: left; font-weight: bold;\">COMISIÓN EJECUTIVA DE ATENCIÓN ...</p>                     \n",
    "        <p style=\"font-size:9pt;\">BMCH</p>\n",
    "        <div>\n",
    "            <p style=\"text-align: justify; color: #666666; font-size:9pt;\">\n",
    "                De conformidad con el artículo 97 de la Ley de Austeridad, Transparencia en Remuneraciones, Prestaciones y Ejercicio de Recursos en la Ciudad de México las comunicaciones oficiales entre los entes y personas servidoras públicas de la Ciudad, así como la prestación de los servicios cuya naturaleza lo permita, <b>deberán hacerse preferentemente de manera electrónica, informática o telemática</b>; con la finalidad de evitar en la medida de los posible la utilización de papel; insumos de reproducción física de documentos, servicios de mensajería, pasajes, utilización de vehículos y sus combustibles. Esto, en correlación con el artículo 5 de la Ley de Ciudadanía Digital de la Ciudad de México que reconoce el derecho de las Personas para relacionarse y comunicarse con la Administración Pública y las Alcaldías, mediante el uso de medios electrónicos y tecnologías de la información y comunicación de uso generalizado. Por consiguiente, <b><u>la presente comunicación tiene carácter oficial pleno</u></b>.\n",
    "            </p>\n",
    "            <hr style=\"border: 1px solid #666666;\">\n",
    "            <p style=\"font-weight: bold; color: #444444; font-size:11pt;\">Edgar Alejandro Gómez Jaimes | Coordinador del Registro Local de Víctimas</p>\n",
    "            <p style=\"color: #999999; font-size:11pt;\">Comisión Ejecutiva de Atención a Víctimas</p>\n",
    "            <p><a href=\"mailto:...@...mx\" style=\"color: blue; font-size:11pt;\">reviceavi@...mx</a></p>\n",
    "            <p><b>Tel.</b> 55 9131 4694</p>\n",
    "            <p>Dirección: ..., Alcaldía Cuauhtémoc C.P. 06000, CDMX</p>\n",
    "            <blockquote style=\"text-align: justify; font-size:9pt; border-left: 1px solid #cccccc; padding-left: 10px; color: #444444;\">\n",
    "                <i>“La información contenida en este correo, así como la contenida en los documentos anexos, puede contener datos personales, por lo que su difusión es responsabilidad de quien los transmite y quien los recibe, en términos de lo dispuesto por los artículos 6 fracciones XII, XXII, XXIII; 169, 186 y demás aplicables de la Ley de Transparencia, Acceso a la Información Pública y Rendición de Cuentas de la Ciudad de México. Los Datos Personales se encuentran protegidos por la Ley de Protección de Datos Personales en Posesión de Sujetos Obligados de la Ciudad de México, por lo que su difusión se encuentra tutelada en sus artículos 3 fracciones IX, XXVIII, XXIX, XXXIV, XXXVI, 9, 16, 25, 26, 37, 41, 46, 49, 50, de la Ley de Protección de Datos Personales en Posesión de Sujetos Obligados de la Ciudad de México y demás relativos y aplicables; debiendo sujetarse en su caso, a las disposiciones relativas a la creación, modificación o supresión de datos personales previstos. Asimismo, deberá estarse a lo señalado en los artículos 7, 8, 9, 10, 11 y demás aplicables de los Lineamientos Generales sobre Protección de Datos Personales en Posesión de Sujetos Obligados de la Ciudad de México.\" El presente correo y sus anexos pueden ser objeto de solicitudes de información pública, si usted no es el destinatario del mismo, por favor repórtelo inmediatamente al remitente del correo y bórrelo.”</i>\n",
    "            </blockquote>\n",
    "            <b style=\"font-size:10pt\">\n",
    "              <i>\n",
    "                <span lang=\"ES\" style=\"text-align: justify; font-size:9pt;color:rgb(68,68,68)\">\n",
    "            Queda prohibida cualquier remisión, retransmisión u otro uso de este correo, por personas o entidades distintas al destinatario legítimo.&nbsp;\n",
    "                </span>\n",
    "              </i>\n",
    "            </b>\n",
    "        </div>\n",
    "        </body>\n",
    "        </html>\n",
    "        \"\"\"\n",
    "\n",
    "        oficios_files = [os.path.join(oficios_folder, f\"OficioRELOVI_{row[\"número_oficio\"]}.pdf\")]\n",
    "        \n",
    "        numbers = extract_numbers_from_column(row[\"número_registro\"])\n",
    "        acuerdos_files = [os.path.join(acuerdos_folder, f\"AcuerdoRegistro_{num}.pdf\") for num in numbers]\n",
    "\n",
    "        attachments = oficios_files + acuerdos_files\n",
    "\n",
    "        create_draft(service, \"me\", to_email, subject, body_text, attachments)\n",
    "\n",
    "if __name__ == \"__main__\":\n",
    "    main()\n"
   ]
  },
  {
   "cell_type": "code",
   "execution_count": 91,
   "id": "4693d14a-ab6f-4d9e-b51a-db5c02ccd412",
   "metadata": {},
   "outputs": [
    {
     "name": "stdout",
     "output_type": "stream",
     "text": [
      "Draft id: r8291563226079120117\n"
     ]
    }
   ],
   "source": [
    "# Se crea el borrador en gmail para jueces\n",
    "\n",
    "def main():\n",
    "    service = authenticate_gmail()\n",
    "\n",
    "    oficios_folder = \"/path/to/your/acuerdos_registro/PDF_Oficios\"\n",
    "    acuerdos_folder = \"/path/to/your/PDF_Acuerdos_Victimas\"\n",
    "\n",
    "    for _, row in gmail_judiciales.iterrows():\n",
    "        to_email = row[\"correo_electrónico\"]\n",
    "        subject = f\"Se remite oficio CEAVICDMX/DFV/RELOVI/{row[\"número_oficio\"]}/2024\"\n",
    "        body_text = f\"\"\"\n",
    "        <html>\n",
    "        <body style=\"font-family: 'Source Sans Pro', sans-serif; color:gray; font-size:11pt;\">\n",
    "        <p style=\"text-align: right;\">Ciudad de México a {row[\"fecha_oficio\"]}</p>\n",
    "        <p style=\"text-align: right; font-weight: bold;\">CEAVICDMX/DFVCDMX/RELOVI/{row[\"número_oficio\"]}/2024</p>        \n",
    "        <p style=\"text-align: right;\"><strong>Nombres:</strong> {row[\"nombres_víctimas\"]}</p>\n",
    "        <p style=\"text-align: right;\"><strong>Acuerdos:</strong> {row[\"número_registro\"]}</p>\n",
    "        <p style=\"text-align: right;\"><strong>Carpeta Judicial:</strong> {row[\"expediente_judicial\"]}</p>\n",
    "        <p style=\"text-align: left; font-weight: bold;\">{row[\"nombre_juez\"]}</p>        \n",
    "        <p style=\"text-align: left; font-weight: bold;\">{row[\"cargo_juez\"]}</p>        \n",
    "        <p style=\"text-align: left; font-weight: bold;\">P R E S E N T E</p>     \n",
    "        <p style=\"text-align: justify;\">Me dirijo a usted en atención a las solicitudes mediante las que gestiona la inscripción al Registro Local de Víctimas de las personas citadas al rubro, para lo cual me permito manifestarle lo siguiente:</p>\n",
    "        <p style=\"text-align: justify;\">Anexo al presente se encuentran los acuerdos originales de las personas citadas al rubro.</p>\n",
    "        <p style=\"text-align: justify;\">Con fundamento en lo dispuesto en el artículo 102 de la Ley General de Víctimas y el artículo 142, fracción XIII de la Ley de Víctimas para la Ciudad de México, le remito los acuerdos antes mencionados a fin de que se le haga del conocimiento a quien en derecho corresponda. De igual forma, le informo que el expediente será turnado al Comité Interdisciplinario Evaluador, de conformidad con el artículo 33, primer párrafo del Reglamento de la Ley de Víctimas para la Ciudad de México, una vez que se cuente con la respectiva constancia de notificación.</p>\n",
    "        <p style=\"text-align: justify;\">Finalmente, se hace de su conocimiento que la información contenida en el presente oficio, así como en los documentos anexos, contiene datos personales, por lo que su difusión es responsabilidad de quien los transmite y quien los recibe, en términos de las disposiciones vigentes en materia de datos personales, acceso a la información pública, transparencia y rendición de cuentas.</p>\n",
    "        <p style=\"text-align: justify;\">Sin más por el momento, agradezco de antemano la atención sobre el presente asunto.</p>\n",
    "        <p style=\"text-align: left; font-weight: bold;\">A T E N T A M E N T E</p>  \n",
    "        <p style=\"text-align: left; font-weight: bold;\">LIC. ...</p>             \n",
    "        <p style=\"text-align: left; font-weight: bold;\">COORDINADOR DEL ...</p>             \n",
    "        <p style=\"text-align: left; font-weight: bold;\">COMISIÓN EJECUTIVA DE ...</p>                     \n",
    "        <p style=\"font-size:9pt;\">BMCH</p>\n",
    "        <div>\n",
    "            <p style=\"text-align: justify; color: #666666; font-size:9pt;\">\n",
    "                De conformidad con el artículo 97 de la Ley de Austeridad, Transparencia en Remuneraciones, Prestaciones y Ejercicio de Recursos en la Ciudad de México las comunicaciones oficiales entre los entes y personas servidoras públicas de la Ciudad, así como la prestación de los servicios cuya naturaleza lo permita, <b>deberán hacerse preferentemente de manera electrónica, informática o telemática</b>; con la finalidad de evitar en la medida de los posible la utilización de papel; insumos de reproducción física de documentos, servicios de mensajería, pasajes, utilización de vehículos y sus combustibles. Esto, en correlación con el artículo 5 de la Ley de Ciudadanía Digital de la Ciudad de México que reconoce el derecho de las Personas para relacionarse y comunicarse con la Administración Pública y las Alcaldías, mediante el uso de medios electrónicos y tecnologías de la información y comunicación de uso generalizado. Por consiguiente, <b><u>la presente comunicación tiene carácter oficial pleno</u></b>.\n",
    "            </p>\n",
    "            <hr style=\"border: 1px solid #666666;\">\n",
    "            <p style=\"font-weight: bold; color: #444444; font-size:11pt;\">Edgar Alejandro Gómez Jaimes | Coordinador del Registro Local de Víctimas</p>\n",
    "            <p style=\"color: #999999; font-size:11pt;\">Comisión Ejecutiva de Atención a Víctimas</p>\n",
    "            <p><a href=\"mailto:reviceavi@...mx\" style=\"color: blue; font-size:11pt;\">reviceavi@...mx</a></p>\n",
    "            <p><b>Tel.</b> 55 9131 4694</p>\n",
    "            <p>Dirección: ..., Alcaldía Cuauhtémoc C.P. 06000, CDMX</p>\n",
    "            <blockquote style=\"text-align: justify; font-size:9pt; border-left: 1px solid #cccccc; padding-left: 10px; color: #444444;\">\n",
    "                <i>“La información contenida en este correo, así como la contenida en los documentos anexos, puede contener datos personales, por lo que su difusión es responsabilidad de quien los transmite y quien los recibe, en términos de lo dispuesto por los artículos 6 fracciones XII, XXII, XXIII; 169, 186 y demás aplicables de la Ley de Transparencia, Acceso a la Información Pública y Rendición de Cuentas de la Ciudad de México. Los Datos Personales se encuentran protegidos por la Ley de Protección de Datos Personales en Posesión de Sujetos Obligados de la Ciudad de México, por lo que su difusión se encuentra tutelada en sus artículos 3 fracciones IX, XXVIII, XXIX, XXXIV, XXXVI, 9, 16, 25, 26, 37, 41, 46, 49, 50, de la Ley de Protección de Datos Personales en Posesión de Sujetos Obligados de la Ciudad de México y demás relativos y aplicables; debiendo sujetarse en su caso, a las disposiciones relativas a la creación, modificación o supresión de datos personales previstos. Asimismo, deberá estarse a lo señalado en los artículos 7, 8, 9, 10, 11 y demás aplicables de los Lineamientos Generales sobre Protección de Datos Personales en Posesión de Sujetos Obligados de la Ciudad de México.\" El presente correo y sus anexos pueden ser objeto de solicitudes de información pública, si usted no es el destinatario del mismo, por favor repórtelo inmediatamente al remitente del correo y bórrelo.”</i>\n",
    "            </blockquote>\n",
    "            <b style=\"font-size:10pt\">\n",
    "              <i>\n",
    "                <span lang=\"ES\" style=\"text-align: justify; font-size:9pt;color:rgb(68,68,68)\">\n",
    "            Queda prohibida cualquier remisión, retransmisión u otro uso de este correo, por personas o entidades distintas al destinatario legítimo.&nbsp;\n",
    "                </span>\n",
    "              </i>\n",
    "            </b>\n",
    "        </div>\n",
    "        </body>\n",
    "        </html>\n",
    "        \"\"\"\n",
    "\n",
    "        oficios_files = [os.path.join(oficios_folder, f\"OficioRELOVI_{row[\"número_oficio\"]}.pdf\")]\n",
    "        \n",
    "        numbers = extract_numbers_from_column(row[\"número_registro\"])\n",
    "        acuerdos_files = [os.path.join(acuerdos_folder, f\"AcuerdoRegistro_{num}.pdf\") for num in numbers]\n",
    "\n",
    "        attachments = oficios_files + acuerdos_files\n",
    "\n",
    "        create_draft(service, \"me\", to_email, subject, body_text, attachments)\n",
    "\n",
    "if __name__ == \"__main__\":\n",
    "    main()\n"
   ]
  },
  {
   "cell_type": "code",
   "execution_count": null,
   "id": "c2a7a647-2264-425c-84fb-45863da2df5d",
   "metadata": {},
   "outputs": [],
   "source": [
    "# Se crea el borrador en violaciones a los DH\n",
    "\n",
    "def main():\n",
    "    service = authenticate_gmail()\n",
    "\n",
    "    oficios_folder = \"/path/to/your/acuerdos_registro/PDF_Oficios\"\n",
    "    acuerdos_folder = \"/path/to/your/PDF_Acuerdos_Victimas\"\n",
    "\n",
    "    for _, row in gmail_dh.iterrows():\n",
    "        to_email = row[\"correo_electrónico\"]\n",
    "        subject = f\"Se remite oficio CEAVICDMX/DFV/RELOVI/{row[\"número_oficio\"]}/2024\"\n",
    "        body_text = f\"\"\"\n",
    "        <html>\n",
    "        <body style=\"font-family: 'Source Sans Pro', sans-serif; color:gray; font-size:11pt;\">\n",
    "        <p style=\"text-align: right;\">Ciudad de México a {row[\"fecha_oficio\"]}</p>\n",
    "        <p style=\"text-align: right; font-weight: bold;\">CEAVICDMX/DFVCDMX/RELOVI/{row[\"número_oficio\"]}/2024</p>        \n",
    "        <p style=\"text-align: right;\"><strong>Nombres:</strong> {row[\"nombres_víctimas\"]}</p>\n",
    "        <p style=\"text-align: right;\"><strong>Acuerdos:</strong> {row[\"número_registro\"]}</p>\n",
    "        <p style=\"text-align: right;\"><strong>Recomendación:</strong> {row[\"número_recomendación\"]}</p>\n",
    "        <p style=\"text-align: left; font-weight: bold;\">MTRA. ...</p>     \n",
    "        <p style=\"text-align: left; font-weight: bold;\">DIRECTORA ...</p>     \n",
    "        <p style=\"text-align: left; font-weight: bold;\">P R E S E N T E</p>     \n",
    "        <p style=\"text-align: justify;\">Me dirijo a usted en atención a las solicitudes mediante las que gestiona la inscripción al Registro Local de Víctimas de las personas citadas al rubro, para lo cual me permito manifestarle lo siguiente:</p>\n",
    "        <p style=\"text-align: justify;\">Anexo al presente se encuentran los acuerdos originales de las personas citadas al rubro.</p>\n",
    "        <p style=\"text-align: justify;\">Con fundamento en lo dispuesto en el artículo 102 de la Ley General de Víctimas y el artículo 142, fracción XIII de la Ley de Víctimas para la Ciudad de México, le envío los acuerdos antes mencionados a fin de que se le haga del conocimiento a quien en derecho corresponda. De la misma manera, le informo que se reserva la remisión del presente expediente al Comité Interdisciplinario Evaluador de la Comisión Ejecutiva de Atención a Víctimas de la Ciudad de México, <u>hasta en tanto exista resolución judicial firme o bien, exista determinación del Ministerio Público que determine compensación subsidiaria</u>, esto último de conformidad con lo dispuesto por los artículos 66, 67, 68 y 69 de la Ley General de Víctimas en armonía con los numerales 63, 64, 65, 66 y 135 de la Ley de Víctimas para la Ciudad de México.</p>\n",
    "        <p style=\"text-align: justify;\">Finalmente, se hace de su conocimiento que la información contenida en el presente oficio, así como en los documentos anexos, contiene datos personales, por lo que su difusión es responsabilidad de quien los transmite y quien los recibe, en términos de las disposiciones vigentes en materia de datos personales, acceso a la información pública, transparencia y rendición de cuentas.</p>\n",
    "        <p style=\"text-align: justify;\">Sin más por el momento, agradezco de antemano la atención sobre el presente asunto.</p>\n",
    "        <p style=\"text-align: left; font-weight: bold;\">A T E N T A M E N T E</p>  \n",
    "        <p style=\"text-align: left; font-weight: bold;\">LIC. ....</p>             \n",
    "        <p style=\"text-align: left; font-weight: bold;\">COORDINADOR DEL ...</p>             \n",
    "        <p style=\"text-align: left; font-weight: bold;\">COMISIÓN EJECUTIVA ...</p>                     \n",
    "        <p style=\"font-size:9pt;\">BMCH</p>\n",
    "        <div>\n",
    "            <p style=\"text-align: justify; color: #666666; font-size:9pt;\">\n",
    "                De conformidad con el artículo 97 de la Ley de Austeridad, Transparencia en Remuneraciones, Prestaciones y Ejercicio de Recursos en la Ciudad de México las comunicaciones oficiales entre los entes y personas servidoras públicas de la Ciudad, así como la prestación de los servicios cuya naturaleza lo permita, <b>deberán hacerse preferentemente de manera electrónica, informática o telemática</b>; con la finalidad de evitar en la medida de los posible la utilización de papel; insumos de reproducción física de documentos, servicios de mensajería, pasajes, utilización de vehículos y sus combustibles. Esto, en correlación con el artículo 5 de la Ley de Ciudadanía Digital de la Ciudad de México que reconoce el derecho de las Personas para relacionarse y comunicarse con la Administración Pública y las Alcaldías, mediante el uso de medios electrónicos y tecnologías de la información y comunicación de uso generalizado. Por consiguiente, <b><u>la presente comunicación tiene carácter oficial pleno</u></b>.\n",
    "            </p>\n",
    "            <hr style=\"border: 1px solid #666666;\">\n",
    "            <p style=\"font-weight: bold; color: #444444; font-size:11pt;\">Edgar Alejandro Gómez Jaimes | Coordinador del Registro Local de Víctimas</p>\n",
    "            <p style=\"color: #999999; font-size:11pt;\">Comisión Ejecutiva de Atención a Víctimas</p>\n",
    "            <p><a href=\"mailto:reviceavi@...mx\" style=\"color: blue; font-size:11pt;\">reviceavi@...mx</a></p>\n",
    "            <p><b>Tel.</b> 55 9131 4694</p>\n",
    "            <p>Dirección: ..., Alcaldía Cuauhtémoc C.P. 06000, CDMX</p>\n",
    "            <blockquote style=\"text-align: justify; font-size:9pt; border-left: 1px solid #cccccc; padding-left: 10px; color: #444444;\">\n",
    "                <i>“La información contenida en este correo, así como la contenida en los documentos anexos, puede contener datos personales, por lo que su difusión es responsabilidad de quien los transmite y quien los recibe, en términos de lo dispuesto por los artículos 6 fracciones XII, XXII, XXIII; 169, 186 y demás aplicables de la Ley de Transparencia, Acceso a la Información Pública y Rendición de Cuentas de la Ciudad de México. Los Datos Personales se encuentran protegidos por la Ley de Protección de Datos Personales en Posesión de Sujetos Obligados de la Ciudad de México, por lo que su difusión se encuentra tutelada en sus artículos 3 fracciones IX, XXVIII, XXIX, XXXIV, XXXVI, 9, 16, 25, 26, 37, 41, 46, 49, 50, de la Ley de Protección de Datos Personales en Posesión de Sujetos Obligados de la Ciudad de México y demás relativos y aplicables; debiendo sujetarse en su caso, a las disposiciones relativas a la creación, modificación o supresión de datos personales previstos. Asimismo, deberá estarse a lo señalado en los artículos 7, 8, 9, 10, 11 y demás aplicables de los Lineamientos Generales sobre Protección de Datos Personales en Posesión de Sujetos Obligados de la Ciudad de México.\" El presente correo y sus anexos pueden ser objeto de solicitudes de información pública, si usted no es el destinatario del mismo, por favor repórtelo inmediatamente al remitente del correo y bórrelo.”</i>\n",
    "            </blockquote>\n",
    "            <b style=\"font-size:10pt\">\n",
    "              <i>\n",
    "                <span lang=\"ES\" style=\"text-align: justify; font-size:9pt;color:rgb(68,68,68)\">\n",
    "            Queda prohibida cualquier remisión, retransmisión u otro uso de este correo, por personas o entidades distintas al destinatario legítimo.&nbsp;\n",
    "                </span>\n",
    "              </i>\n",
    "            </b>\n",
    "        </div>\n",
    "        </body>\n",
    "        </html>\n",
    "        \"\"\"\n",
    "\n",
    "        oficios_files = [os.path.join(oficios_folder, f\"OficioRELOVI_{row[\"número_oficio\"]}.pdf\")]\n",
    "        \n",
    "        numbers = extract_numbers_from_column(row[\"número_registro\"])\n",
    "        acuerdos_files = [os.path.join(acuerdos_folder, f\"AcuerdoRegistro_{num}.pdf\") for num in numbers]\n",
    "\n",
    "        attachments = oficios_files + acuerdos_files\n",
    "\n",
    "        create_draft(service, \"me\", to_email, subject, body_text, attachments)\n",
    "\n",
    "if __name__ == \"__main__\":\n",
    "    main()\n"
   ]
  },
  {
   "cell_type": "code",
   "execution_count": null,
   "id": "a797c144-4e05-4f88-8aff-70375b08ce0f",
   "metadata": {},
   "outputs": [],
   "source": []
  }
 ],
 "metadata": {
  "kernelspec": {
   "display_name": "Python 3 (ipykernel)",
   "language": "python",
   "name": "python3"
  },
  "language_info": {
   "codemirror_mode": {
    "name": "ipython",
    "version": 3
   },
   "file_extension": ".py",
   "mimetype": "text/x-python",
   "name": "python",
   "nbconvert_exporter": "python",
   "pygments_lexer": "ipython3",
   "version": "3.12.2"
  }
 },
 "nbformat": 4,
 "nbformat_minor": 5
}
